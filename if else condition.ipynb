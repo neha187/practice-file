{
 "cells": [
  {
   "cell_type": "code",
   "execution_count": null,
   "metadata": {},
   "outputs": [],
   "source": []
  },
  {
   "cell_type": "code",
   "execution_count": null,
   "metadata": {},
   "outputs": [],
   "source": [
    "#introdution input method"
   ]
  },
  {
   "cell_type": "code",
   "execution_count": 1,
   "metadata": {},
   "outputs": [
    {
     "name": "stdout",
     "output_type": "stream",
     "text": [
      "enter your name: sakshi\n",
      "\n",
      "welcome sakshi\n"
     ]
    }
   ],
   "source": [
    "name = input('enter your name: ')\n",
    "print(f\"\\nwelcome {name}\")"
   ]
  },
  {
   "cell_type": "code",
   "execution_count": 3,
   "metadata": {},
   "outputs": [
    {
     "name": "stdout",
     "output_type": "stream",
     "text": [
      "enter your email: neha.goyal187@gmail.com\n",
      "\n",
      "email: neha.goyal187@gmail.com\n"
     ]
    }
   ],
   "source": [
    "name1 = input(\"enter your email: \")\n",
    "print(f\"\\nemail: {name1}\")"
   ]
  },
  {
   "cell_type": "code",
   "execution_count": null,
   "metadata": {},
   "outputs": [],
   "source": [
    "name = input('enter name: ')\n",
    "print(f\"\\nGood to see you {name.upper()}\")"
   ]
  },
  {
   "cell_type": "code",
   "execution_count": null,
   "metadata": {},
   "outputs": [],
   "source": []
  },
  {
   "cell_type": "code",
   "execution_count": null,
   "metadata": {},
   "outputs": [],
   "source": [
    "# if else conditions"
   ]
  },
  {
   "cell_type": "code",
   "execution_count": null,
   "metadata": {},
   "outputs": [],
   "source": [
    "#for finding year is leap or not\n",
    "year = input(\"enter any year: \")\n",
    "year = int(year)\n",
    "if(year/4==0):\n",
    "    print(\"\\n leap year\")\n",
    "else:\n",
    "    print(\"\\n not leap year\")"
   ]
  },
  {
   "cell_type": "code",
   "execution_count": null,
   "metadata": {},
   "outputs": [],
   "source": [
    "#eligible for exam!!!!!\n",
    "age = input('enter your age: ')\n",
    "age = int(age)\n",
    "if(age>=16):\n",
    "    print(\"\\ntou are eligible for exam\")\n",
    "else:\n",
    "    print(\"\\nyou are not eligible for exam\")"
   ]
  },
  {
   "cell_type": "code",
   "execution_count": null,
   "metadata": {},
   "outputs": [],
   "source": []
  }
 ],
 "metadata": {
  "kernelspec": {
   "display_name": "Python 3",
   "language": "python",
   "name": "python3"
  },
  "language_info": {
   "codemirror_mode": {
    "name": "ipython",
    "version": 3
   },
   "file_extension": ".py",
   "mimetype": "text/x-python",
   "name": "python",
   "nbconvert_exporter": "python",
   "pygments_lexer": "ipython3",
   "version": "3.7.6"
  }
 },
 "nbformat": 4,
 "nbformat_minor": 4
}
