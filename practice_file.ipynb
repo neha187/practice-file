{
 "cells": [
  {
   "cell_type": "code",
   "execution_count": 1,
   "metadata": {},
   "outputs": [
    {
     "name": "stdout",
     "output_type": "stream",
     "text": [
      "neha goyal\n"
     ]
    }
   ],
   "source": [
    "first_name = 'neha'\n",
    "last_name = 'goyal'\n",
    "print(f\"{first_name} {last_name}\") "
   ]
  },
  {
   "cell_type": "code",
   "execution_count": 2,
   "metadata": {},
   "outputs": [
    {
     "name": "stdout",
     "output_type": "stream",
     "text": [
      "enter any number: 66\n",
      "66\n"
     ]
    }
   ],
   "source": [
    "number = input('enter any number: ')\n",
    "print(number)"
   ]
  },
  {
   "cell_type": "code",
   "execution_count": 3,
   "metadata": {},
   "outputs": [
    {
     "name": "stdout",
     "output_type": "stream",
     "text": [
      "('44', '66', '75', '88')\n"
     ]
    }
   ],
   "source": [
    "#tuple data type\n",
    "number = ('44','66','75','88')\n",
    "print(number)"
   ]
  },
  {
   "cell_type": "code",
   "execution_count": 4,
   "metadata": {},
   "outputs": [
    {
     "data": {
      "text/plain": [
       "tuple"
      ]
     },
     "execution_count": 4,
     "metadata": {},
     "output_type": "execute_result"
    }
   ],
   "source": [
    "type(number)"
   ]
  },
  {
   "cell_type": "code",
   "execution_count": 5,
   "metadata": {},
   "outputs": [
    {
     "name": "stdout",
     "output_type": "stream",
     "text": [
      "['khushi', 'armaan', 'vandana', 'shikha']\n"
     ]
    }
   ],
   "source": [
    "#list data type\n",
    "name = ['khushi','armaan','vandana','shikha']\n",
    "print(name)"
   ]
  },
  {
   "cell_type": "code",
   "execution_count": 6,
   "metadata": {},
   "outputs": [
    {
     "data": {
      "text/plain": [
       "list"
      ]
     },
     "execution_count": 6,
     "metadata": {},
     "output_type": "execute_result"
    }
   ],
   "source": [
    "type(name)"
   ]
  },
  {
   "cell_type": "code",
   "execution_count": 7,
   "metadata": {},
   "outputs": [
    {
     "name": "stdout",
     "output_type": "stream",
     "text": [
      "['khushi', 'aditi', 'vandana', 'shikha']\n"
     ]
    }
   ],
   "source": [
    "name[1] = 'aditi'\n",
    "print(name)"
   ]
  },
  {
   "cell_type": "code",
   "execution_count": 8,
   "metadata": {},
   "outputs": [
    {
     "name": "stdout",
     "output_type": "stream",
     "text": [
      "vandana\n"
     ]
    }
   ],
   "source": [
    "print(name[2])"
   ]
  },
  {
   "cell_type": "code",
   "execution_count": 9,
   "metadata": {},
   "outputs": [
    {
     "name": "stdout",
     "output_type": "stream",
     "text": [
      "neha\n"
     ]
    }
   ],
   "source": [
    "name = '  neha   '\n",
    "print(name.strip())"
   ]
  },
  {
   "cell_type": "code",
   "execution_count": 10,
   "metadata": {},
   "outputs": [
    {
     "name": "stdout",
     "output_type": "stream",
     "text": [
      "1024\n"
     ]
    }
   ],
   "source": [
    "print(4**5)"
   ]
  },
  {
   "cell_type": "code",
   "execution_count": 13,
   "metadata": {},
   "outputs": [
    {
     "name": "stdout",
     "output_type": "stream",
     "text": [
      "['khushi', 'reenu', 'sagar', 'meenakshi']\n"
     ]
    }
   ],
   "source": [
    "#add the elements in the list\n",
    "name = ['khushi','reenu','sagar']\n",
    "name.append('meenakshi')\n",
    "print(name)"
   ]
  },
  {
   "cell_type": "code",
   "execution_count": 14,
   "metadata": {},
   "outputs": [
    {
     "name": "stdout",
     "output_type": "stream",
     "text": [
      "['khushi', 'reenu', 'deepak', 'sagar', 'meenakshi']\n"
     ]
    }
   ],
   "source": [
    "name.insert(2,'deepak')\n",
    "print(name)"
   ]
  },
  {
   "cell_type": "code",
   "execution_count": 15,
   "metadata": {},
   "outputs": [
    {
     "name": "stdout",
     "output_type": "stream",
     "text": [
      "['khushi', 'reenu', 'deepak', 'meenakshi']\n"
     ]
    }
   ],
   "source": [
    "del name[3]\n",
    "print(name)"
   ]
  },
  {
   "cell_type": "code",
   "execution_count": 16,
   "metadata": {},
   "outputs": [
    {
     "name": "stdout",
     "output_type": "stream",
     "text": [
      "['khushi', 'deepak', 'meenakshi']\n"
     ]
    }
   ],
   "source": [
    "name.pop(1)\n",
    "print(name)"
   ]
  },
  {
   "cell_type": "code",
   "execution_count": null,
   "metadata": {},
   "outputs": [],
   "source": [
    "# for loop"
   ]
  },
  {
   "cell_type": "code",
   "execution_count": 17,
   "metadata": {},
   "outputs": [
    {
     "name": "stdout",
     "output_type": "stream",
     "text": [
      "hello Taniya\n",
      "hello Kiran\n",
      "hello Reenu\n"
     ]
    }
   ],
   "source": [
    "students = ['taniya','kiran','reenu']\n",
    "for student in students:\n",
    "    print(f\"hello {student.title()}\")"
   ]
  },
  {
   "cell_type": "code",
   "execution_count": null,
   "metadata": {},
   "outputs": [],
   "source": [
    "#if else condition"
   ]
  },
  {
   "cell_type": "code",
   "execution_count": 19,
   "metadata": {},
   "outputs": [
    {
     "name": "stdout",
     "output_type": "stream",
     "text": [
      "enter any number: 55\n",
      "enter any number again: 6\n",
      "556\n",
      "number is not divisible by 4\n"
     ]
    }
   ],
   "source": [
    "number1 = input('enter any number: ')\n",
    "number2 = input('enter any number again: ')\n",
    "sum = (number1 + number2)\n",
    "sum = int(sum)\n",
    "print(sum)\n",
    "if (sum/4 == 0):\n",
    "    print('number is divisible by 4')\n",
    "else:\n",
    "    print('number is not divisible by 4')"
   ]
  },
  {
   "cell_type": "code",
   "execution_count": null,
   "metadata": {},
   "outputs": [],
   "source": [
    "#dictionary data type"
   ]
  },
  {
   "cell_type": "code",
   "execution_count": 20,
   "metadata": {},
   "outputs": [
    {
     "name": "stdout",
     "output_type": "stream",
     "text": [
      "{'khushi': 'india', 'navjot': 'canada', 'harman': 'uk', 'vandana': 'usa'}\n"
     ]
    }
   ],
   "source": [
    "country = {\n",
    "    'khushi':  'india',\n",
    "    'navjot':  'canada',\n",
    "    'harman':  'uk',\n",
    "    'vandana': 'usa'\n",
    "}\n",
    "print(country)"
   ]
  },
  {
   "cell_type": "code",
   "execution_count": 22,
   "metadata": {},
   "outputs": [
    {
     "name": "stdout",
     "output_type": "stream",
     "text": [
      "canada\n"
     ]
    }
   ],
   "source": [
    "print(country['navjot'])"
   ]
  },
  {
   "cell_type": "code",
   "execution_count": 23,
   "metadata": {},
   "outputs": [
    {
     "data": {
      "text/plain": [
       "dict"
      ]
     },
     "execution_count": 23,
     "metadata": {},
     "output_type": "execute_result"
    }
   ],
   "source": [
    "type(country)"
   ]
  },
  {
   "cell_type": "code",
   "execution_count": 24,
   "metadata": {},
   "outputs": [
    {
     "name": "stdout",
     "output_type": "stream",
     "text": [
      "{'khushi': 'india', 'navjot': 'canada', 'harman': 'uk', 'vandana': 'usa', 'sagar': 'australia'}\n"
     ]
    }
   ],
   "source": [
    "#add new values in dict\n",
    "country['sagar'] = 'australia'\n",
    "print(country)"
   ]
  },
  {
   "cell_type": "code",
   "execution_count": 29,
   "metadata": {},
   "outputs": [
    {
     "name": "stdout",
     "output_type": "stream",
     "text": [
      "{'khushi': 'india', 'navjot': 'canada', 'harman': 'indonesia', 'vandana': 'usa', 'sagar': 'australia'}\n"
     ]
    }
   ],
   "source": [
    "#modify values in dict\n",
    "country['harman'] = 'indonesia'\n",
    "print(country)"
   ]
  },
  {
   "cell_type": "code",
   "execution_count": null,
   "metadata": {},
   "outputs": [],
   "source": []
  },
  {
   "cell_type": "code",
   "execution_count": null,
   "metadata": {},
   "outputs": [],
   "source": [
    "#removing key value in dict"
   ]
  },
  {
   "cell_type": "code",
   "execution_count": 30,
   "metadata": {},
   "outputs": [
    {
     "name": "stdout",
     "output_type": "stream",
     "text": [
      "{'navjot': 'canada', 'harman': 'indonesia', 'vandana': 'usa', 'sagar': 'australia'}\n"
     ]
    }
   ],
   "source": [
    "del country['khushi']\n",
    "print(country)"
   ]
  },
  {
   "cell_type": "code",
   "execution_count": 31,
   "metadata": {},
   "outputs": [
    {
     "name": "stdout",
     "output_type": "stream",
     "text": [
      "no value assign\n"
     ]
    }
   ],
   "source": [
    "print(country.get('khushi','no value assign'))"
   ]
  },
  {
   "cell_type": "code",
   "execution_count": null,
   "metadata": {},
   "outputs": [],
   "source": [
    "#looping through dictionary"
   ]
  },
  {
   "cell_type": "code",
   "execution_count": 38,
   "metadata": {},
   "outputs": [
    {
     "ename": "IndentationError",
     "evalue": "expected an indented block (<ipython-input-38-241a2cf1e2a3>, line 7)",
     "output_type": "error",
     "traceback": [
      "\u001b[1;36m  File \u001b[1;32m\"<ipython-input-38-241a2cf1e2a3>\"\u001b[1;36m, line \u001b[1;32m7\u001b[0m\n\u001b[1;33m    print(f\"\\nkey: {a}\")\u001b[0m\n\u001b[1;37m        ^\u001b[0m\n\u001b[1;31mIndentationError\u001b[0m\u001b[1;31m:\u001b[0m expected an indented block\n"
     ]
    }
   ],
   "source": [
    "country = {\n",
    "    'khushi': 'uk',\n",
    "    'navjot': 'usa',\n",
    "    'sagar': 'india'\n",
    "}\n",
    "for a,b in country.items():\n",
    "print(f\"\\nkey: {a}\")\n",
    "print(f\"value: {b}\")"
   ]
  },
  {
   "cell_type": "code",
   "execution_count": null,
   "metadata": {},
   "outputs": [],
   "source": []
  }
 ],
 "metadata": {
  "kernelspec": {
   "display_name": "Python 3",
   "language": "python",
   "name": "python3"
  },
  "language_info": {
   "codemirror_mode": {
    "name": "ipython",
    "version": 3
   },
   "file_extension": ".py",
   "mimetype": "text/x-python",
   "name": "python",
   "nbconvert_exporter": "python",
   "pygments_lexer": "ipython3",
   "version": "3.7.6"
  }
 },
 "nbformat": 4,
 "nbformat_minor": 4
}
