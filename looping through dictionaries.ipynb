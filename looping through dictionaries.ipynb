{
 "cells": [
  {
   "cell_type": "code",
   "execution_count": null,
   "metadata": {},
   "outputs": [],
   "source": [
    "# use get to access the values:"
   ]
  },
  {
   "cell_type": "code",
   "execution_count": 1,
   "metadata": {},
   "outputs": [
    {
     "name": "stdout",
     "output_type": "stream",
     "text": [
      "{'name': 'abc', 'marks': '60'}\n"
     ]
    }
   ],
   "source": [
    "student = {'name':'abc','marks': '60'}\n",
    "print(student)"
   ]
  },
  {
   "cell_type": "code",
   "execution_count": 4,
   "metadata": {},
   "outputs": [
    {
     "name": "stdout",
     "output_type": "stream",
     "text": [
      "abc\n"
     ]
    }
   ],
   "source": [
    "score = student.get('name','no  value assigned')\n",
    "print(score)"
   ]
  },
  {
   "cell_type": "code",
   "execution_count": 5,
   "metadata": {},
   "outputs": [
    {
     "name": "stdout",
     "output_type": "stream",
     "text": [
      "no value assigned\n"
     ]
    }
   ],
   "source": [
    "score = student.get('point','no value assigned')\n",
    "print(score)"
   ]
  },
  {
   "cell_type": "code",
   "execution_count": null,
   "metadata": {},
   "outputs": [],
   "source": []
  },
  {
   "cell_type": "code",
   "execution_count": null,
   "metadata": {},
   "outputs": [],
   "source": [
    "# looping through dictionaries:"
   ]
  },
  {
   "cell_type": "code",
   "execution_count": 9,
   "metadata": {},
   "outputs": [
    {
     "name": "stdout",
     "output_type": "stream",
     "text": [
      "\n",
      "key: student1\n",
      "value: football\n",
      "\n",
      "key: student2\n",
      "value: hockey\n",
      "\n",
      "key: student3\n",
      "value: cricket\n"
     ]
    }
   ],
   "source": [
    "game = {\n",
    "    'student1': 'football',\n",
    "    'student2': 'hockey',\n",
    "    'student3': 'cricket'\n",
    "}\n",
    "\n",
    "for x,y in game.items():\n",
    "    print(f\"\\nkey: {x}\")\n",
    "    print(f\"value: {y}\")"
   ]
  },
  {
   "cell_type": "code",
   "execution_count": null,
   "metadata": {},
   "outputs": [],
   "source": []
  },
  {
   "cell_type": "code",
   "execution_count": 12,
   "metadata": {},
   "outputs": [
    {
     "name": "stdout",
     "output_type": "stream",
     "text": [
      "Khushi's favorite game is Hockey'\n",
      "Ankush's favorite game is Cricket'\n",
      "Priya's favorite game is Fotball'\n"
     ]
    }
   ],
   "source": [
    "fav_game = {\n",
    "    'khushi': 'hockey',\n",
    "    'ankush': 'cricket',\n",
    "    'priya': 'fotball'\n",
    "}\n",
    "for name,game in fav_game.items():\n",
    "    print(f\"{name.title()}'s favorite game is {game.title()}'\")"
   ]
  },
  {
   "cell_type": "code",
   "execution_count": null,
   "metadata": {},
   "outputs": [],
   "source": []
  },
  {
   "cell_type": "code",
   "execution_count": 14,
   "metadata": {},
   "outputs": [
    {
     "name": "stdout",
     "output_type": "stream",
     "text": [
      "Khushi\n",
      "Ankush\n",
      "Priya\n"
     ]
    }
   ],
   "source": [
    "for name in fav_game.keys():\n",
    "    print(name.title())"
   ]
  },
  {
   "cell_type": "code",
   "execution_count": null,
   "metadata": {},
   "outputs": [],
   "source": []
  },
  {
   "cell_type": "code",
   "execution_count": 15,
   "metadata": {},
   "outputs": [
    {
     "name": "stdout",
     "output_type": "stream",
     "text": [
      "Hockey\n",
      "Cricket\n",
      "Fotball\n"
     ]
    }
   ],
   "source": [
    "for game in fav_game.values():\n",
    "    print(game.title())"
   ]
  },
  {
   "cell_type": "code",
   "execution_count": null,
   "metadata": {},
   "outputs": [],
   "source": []
  },
  {
   "cell_type": "code",
   "execution_count": 16,
   "metadata": {},
   "outputs": [
    {
     "name": "stdout",
     "output_type": "stream",
     "text": [
      "Ankush\n",
      "Khushi\n",
      "Priya\n"
     ]
    }
   ],
   "source": [
    "for name in sorted(fav_game.keys()):\n",
    "    print(name.title())"
   ]
  },
  {
   "cell_type": "code",
   "execution_count": 17,
   "metadata": {},
   "outputs": [
    {
     "name": "stdout",
     "output_type": "stream",
     "text": [
      "Cricket\n",
      "Fotball\n",
      "Hockey\n"
     ]
    }
   ],
   "source": [
    "for game in sorted(fav_game.values()):\n",
    "    print(game.title())"
   ]
  },
  {
   "cell_type": "code",
   "execution_count": null,
   "metadata": {},
   "outputs": [],
   "source": []
  }
 ],
 "metadata": {
  "kernelspec": {
   "display_name": "Python 3",
   "language": "python",
   "name": "python3"
  },
  "language_info": {
   "codemirror_mode": {
    "name": "ipython",
    "version": 3
   },
   "file_extension": ".py",
   "mimetype": "text/x-python",
   "name": "python",
   "nbconvert_exporter": "python",
   "pygments_lexer": "ipython3",
   "version": "3.7.6"
  }
 },
 "nbformat": 4,
 "nbformat_minor": 4
}
